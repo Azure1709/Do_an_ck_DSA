{
 "cells": [
  {
   "cell_type": "markdown",
   "metadata": {},
   "source": [
    "### **Import tools**"
   ]
  },
  {
   "cell_type": "code",
   "execution_count": 6,
   "metadata": {},
   "outputs": [],
   "source": [
    "import numpy as np\n",
    "import pandas as pd\n",
    "import seaborn as sns\n",
    "from sklearn.preprocessing import LabelEncoder\n",
    "from sklearn.model_selection import train_test_split"
   ]
  },
  {
   "cell_type": "markdown",
   "metadata": {},
   "source": [
    "### **Get the data**"
   ]
  },
  {
   "cell_type": "code",
   "execution_count": 7,
   "metadata": {},
   "outputs": [
    {
     "data": {
      "text/html": [
       "<div>\n",
       "<style scoped>\n",
       "    .dataframe tbody tr th:only-of-type {\n",
       "        vertical-align: middle;\n",
       "    }\n",
       "\n",
       "    .dataframe tbody tr th {\n",
       "        vertical-align: top;\n",
       "    }\n",
       "\n",
       "    .dataframe thead th {\n",
       "        text-align: right;\n",
       "    }\n",
       "</style>\n",
       "<table border=\"1\" class=\"dataframe\">\n",
       "  <thead>\n",
       "    <tr style=\"text-align: right;\">\n",
       "      <th></th>\n",
       "      <th>sepal_length</th>\n",
       "      <th>sepal_width</th>\n",
       "      <th>petal_length</th>\n",
       "      <th>petal_width</th>\n",
       "      <th>type</th>\n",
       "    </tr>\n",
       "  </thead>\n",
       "  <tbody>\n",
       "    <tr>\n",
       "      <th>1</th>\n",
       "      <td>5.1</td>\n",
       "      <td>3.5</td>\n",
       "      <td>1.4</td>\n",
       "      <td>0.2</td>\n",
       "      <td>Iris-setosa</td>\n",
       "    </tr>\n",
       "    <tr>\n",
       "      <th>2</th>\n",
       "      <td>4.9</td>\n",
       "      <td>3.0</td>\n",
       "      <td>1.4</td>\n",
       "      <td>0.2</td>\n",
       "      <td>Iris-setosa</td>\n",
       "    </tr>\n",
       "    <tr>\n",
       "      <th>3</th>\n",
       "      <td>4.7</td>\n",
       "      <td>3.2</td>\n",
       "      <td>1.3</td>\n",
       "      <td>0.2</td>\n",
       "      <td>Iris-setosa</td>\n",
       "    </tr>\n",
       "    <tr>\n",
       "      <th>4</th>\n",
       "      <td>4.6</td>\n",
       "      <td>3.1</td>\n",
       "      <td>1.5</td>\n",
       "      <td>0.2</td>\n",
       "      <td>Iris-setosa</td>\n",
       "    </tr>\n",
       "    <tr>\n",
       "      <th>5</th>\n",
       "      <td>5.0</td>\n",
       "      <td>3.6</td>\n",
       "      <td>1.4</td>\n",
       "      <td>0.2</td>\n",
       "      <td>Iris-setosa</td>\n",
       "    </tr>\n",
       "    <tr>\n",
       "      <th>6</th>\n",
       "      <td>5.4</td>\n",
       "      <td>3.9</td>\n",
       "      <td>1.7</td>\n",
       "      <td>0.4</td>\n",
       "      <td>Iris-setosa</td>\n",
       "    </tr>\n",
       "    <tr>\n",
       "      <th>7</th>\n",
       "      <td>4.6</td>\n",
       "      <td>3.4</td>\n",
       "      <td>1.4</td>\n",
       "      <td>0.3</td>\n",
       "      <td>Iris-setosa</td>\n",
       "    </tr>\n",
       "    <tr>\n",
       "      <th>8</th>\n",
       "      <td>5.0</td>\n",
       "      <td>3.4</td>\n",
       "      <td>1.5</td>\n",
       "      <td>0.2</td>\n",
       "      <td>Iris-setosa</td>\n",
       "    </tr>\n",
       "    <tr>\n",
       "      <th>9</th>\n",
       "      <td>4.4</td>\n",
       "      <td>2.9</td>\n",
       "      <td>1.4</td>\n",
       "      <td>0.2</td>\n",
       "      <td>Iris-setosa</td>\n",
       "    </tr>\n",
       "    <tr>\n",
       "      <th>10</th>\n",
       "      <td>4.9</td>\n",
       "      <td>3.1</td>\n",
       "      <td>1.5</td>\n",
       "      <td>0.1</td>\n",
       "      <td>Iris-setosa</td>\n",
       "    </tr>\n",
       "  </tbody>\n",
       "</table>\n",
       "</div>"
      ],
      "text/plain": [
       "    sepal_length  sepal_width  petal_length  petal_width         type\n",
       "1            5.1          3.5           1.4          0.2  Iris-setosa\n",
       "2            4.9          3.0           1.4          0.2  Iris-setosa\n",
       "3            4.7          3.2           1.3          0.2  Iris-setosa\n",
       "4            4.6          3.1           1.5          0.2  Iris-setosa\n",
       "5            5.0          3.6           1.4          0.2  Iris-setosa\n",
       "6            5.4          3.9           1.7          0.4  Iris-setosa\n",
       "7            4.6          3.4           1.4          0.3  Iris-setosa\n",
       "8            5.0          3.4           1.5          0.2  Iris-setosa\n",
       "9            4.4          2.9           1.4          0.2  Iris-setosa\n",
       "10           4.9          3.1           1.5          0.1  Iris-setosa"
      ]
     },
     "execution_count": 7,
     "metadata": {},
     "output_type": "execute_result"
    }
   ],
   "source": [
    "col_names = ['sepal_length', 'sepal_width', 'petal_length', 'petal_width', 'type'] # tên target\n",
    "data = pd.read_csv(\"D:\\THANH\\HK2\\DSA\\DoAnCK\\project\\Iris.csv\", skiprows=1, header=None, names=col_names) # Lấy features từ local\n",
    "data.head(10) # in 10 hàng đầu"
   ]
  },
  {
   "cell_type": "markdown",
   "metadata": {},
   "source": [
    "### **Decision Tree** "
   ]
  },
  {
   "cell_type": "markdown",
   "metadata": {},
   "source": [
    "**Node Class**"
   ]
  },
  {
   "cell_type": "code",
   "execution_count": 8,
   "metadata": {},
   "outputs": [],
   "source": [
    "class Node():\n",
    "    def __init__(self, feature_index=None, threshold=None, left=None, right=None, info_gain=None, value=None):\n",
    "        #Khởi tạo node\n",
    "        \n",
    "        # decision node\n",
    "        self.feature_index = feature_index\n",
    "        self.threshold = threshold\n",
    "        self.left = left\n",
    "        self.right = right\n",
    "        self.info_gain = info_gain\n",
    "        \n",
    "        # Leaf node\n",
    "        self.value = value"
   ]
  },
  {
   "cell_type": "markdown",
   "metadata": {},
   "source": [
    "#### **Tree class**"
   ]
  },
  {
   "cell_type": "code",
   "execution_count": 9,
   "metadata": {},
   "outputs": [],
   "source": [
    "class DecisionTreeClassifier():\n",
    "    def __init__(self,min_samples_split=2, max_depth=2):\n",
    "        \n",
    "        self.root = None #khởi tạo root\n",
    "        # Điều kiện dừng \n",
    "        self.min_samples_split= min_samples_split #khi split tới khi còn số lượng sample < 2\n",
    "        self.max_depth = max_depth # sâu tối đa  \n",
    "\n",
    "    def build_tree(self, dataset, curr_depth=0):\n",
    "        #đệ quy build tree\n",
    "        X,Y = dataset[:,:-1], dataset[:,-1] # features lấy tất cả các cột bỏ cột cuối cùng, targets: lấy cột cuối cùng\n",
    "        num_samples, num_features = np.shape(X)\n",
    "\n",
    "        #split cho tới khi điều kiện dừng thõa mãn\n",
    "        if num_samples>=self.min_samples_split and curr_depth<=self.max_depth:\n",
    "            # tìm best split\n",
    "            best_split = self.get_best_split(dataset, num_samples, num_features)\n",
    "            # check nếu information gain positive \n",
    "            if best_split['info_gain'] > 0:\n",
    "                # đệ quy bên trái\n",
    "                left_subtree = self.build_tree(best_split[\"dataset_left\"],curr_depth+1)\n",
    "                # đệ quy bên phải\n",
    "                right_subtree = self.build_tree(best_split[\"dataset_right\"],curr_depth+1)\n",
    "                # trả về Nút quyết định / Decision node\n",
    "                return Node(best_split[\"feature_index\"],best_split[\"threshold\"],\n",
    "                            left_subtree,right_subtree, best_split[\"info_gain\"])\n",
    "            #tính leaf node xem cái nào dominate\n",
    "        leaf_value = self.calculate_leaf_value(Y)\n",
    "            # trả về leaf node\n",
    "        return Node(value=leaf_value)\n",
    "    \n",
    "    \n",
    "    \n",
    "    def get_best_split(self, dataset, num_samples, num_features):\n",
    "            #tìm best split\n",
    "            # dùng dictionary store best split\n",
    "            best_split={}\n",
    "            max_info_gain = -float(\"inf\") # khởi tạo giá trị âm inf\n",
    "            \n",
    "            # loop vào tất cả features\n",
    "            for feature_index in range(num_features):\n",
    "                feature_values = dataset[:,feature_index] # lấy tất cả giá trị trong một cột features\n",
    "                possible_thresholds= np.unique(feature_values) # lấy tất các ngưỡng giá trị khác nhau\n",
    "                #thử từng ngưỡng để xác định ngưỡng tốt nhất / best split\n",
    "                for threshold in possible_thresholds:\n",
    "                    # tính split hiện tại\n",
    "                    dataset_left, dataset_right = self.split(dataset, feature_index,threshold)\n",
    "                    # check nếu các con của nó không rỗng\n",
    "                    if len(dataset_left)>0 and len(dataset_right)>0:\n",
    "                        y, left_y,right_y = dataset[:,-1], dataset_left[:,-1],dataset_right[:,-1]  # lấy cột target trái phải và ở nút hiện tại\n",
    "                        curr_info_gain = self.information_gain(y, left_y, right_y, \"gini\") # tính information gain \n",
    "                        # cập nhật best split nếu cần thiết \n",
    "                        if curr_info_gain>max_info_gain:\n",
    "                            best_split[\"feature_index\"] = feature_index\n",
    "                            best_split[\"threshold\"] = threshold\n",
    "                            best_split[\"dataset_left\"]= dataset_left\n",
    "                            best_split[\"dataset_right\"]= dataset_right\n",
    "                            best_split[\"info_gain\"]= curr_info_gain\n",
    "                            max_info_gain = curr_info_gain\n",
    "            # trả về best split\n",
    "            return best_split\n",
    "    def split(self, dataset, feature_index,threshold):\n",
    "            #chương trình split dataset dựa vào ngưỡng\n",
    "            dataset_left = np.array([row for row in dataset if row[feature_index]<=threshold]) \n",
    "            dataset_right = np.array([row for row in dataset if row[feature_index]>threshold])\n",
    "            return dataset_left, dataset_right\n",
    "    def information_gain(self,parent, l_child, r_child, mode = \"entrophy\"):\n",
    "            #chương trình tính infomation gain \n",
    "            weight_l = len(l_child)/len(parent) # tính tỉ lệ giữa số con / số parents\n",
    "            weight_r = len(r_child)/len(parent)\n",
    "            if(mode == \"gini\"): #công thức tính gini\n",
    "                gain = self.gini_index(parent) - (weight_l*self.gini_index(l_child)+ weight_r*self.gini_index(r_child))\n",
    "            else: #công thức tính entropy\n",
    "                gain = self.entropy(parent) - (weight_l*self.entropy(l_child) + weight_r*self.entropy(r_child))\n",
    "            return gain\n",
    "            \n",
    "    def entropy(self, y):\n",
    "        #tính entropy\n",
    "        class_labels = np.unique(y)\n",
    "        entropy = 0\n",
    "        for cls in class_labels:\n",
    "            p_cls = len(y[y == cls]) / len(y)\n",
    "            entropy += -p_cls * np.log2(p_cls)\n",
    "        return entropy\n",
    "    \n",
    "    def gini_index(self, y):\n",
    "        #tính gini\n",
    "        class_labels = np.unique(y)\n",
    "        gini = 0\n",
    "        for cls in class_labels:\n",
    "            p_cls = len(y[y == cls]) / len(y)\n",
    "            gini += p_cls**2\n",
    "        return 1 - gini\n",
    "    def calculate_leaf_value (self, Y):\n",
    "            \n",
    "            #tính xem phân loại nào ưu thế trong lá\n",
    "            Y = list(Y)\n",
    "            return max(Y, key=Y.count) \n",
    "    def print_tree ( self, tree=None, indent=\" \"):\n",
    "            \n",
    "            #chương trình để in cây ra\n",
    "            if not tree:\n",
    "                tree= self.root\n",
    "            if tree.value is not None:\n",
    "                print(tree.value)\n",
    "            else:\n",
    "                print(\"X_\"+str(tree.feature_index), \"<=\", tree.threshold,\"?\", tree.info_gain)\n",
    "                print(\"%sleft:\" %(indent),end=\"\")\n",
    "                self.print_tree(tree.left, indent + indent)\n",
    "                print(\"%sright:\" % (indent),end=\"\")\n",
    "                self.print_tree(tree.right, indent + indent)\n",
    "    def fit(self, X, Y):\n",
    "        \n",
    "        #train cây \n",
    "            dataset = np.concatenate((X,Y.reshape(-1,1)), axis=1)\n",
    "            self.root = self.build_tree(dataset)\n",
    "    def predict(self, X):\n",
    "            \n",
    "            #dự đoán dataset mới\n",
    "            prediction = [self.make_prediction(x, self.root) for x in X]\n",
    "            return prediction\n",
    "    #dự đoán 1 điểm data point \n",
    "    def make_prediction(self, x, tree):\n",
    "        if tree.value!=None: return tree.value\n",
    "        feature_val = x[tree.feature_index]\n",
    "        if feature_val<=tree.threshold:\n",
    "            return self.make_prediction(x, tree.left)\n",
    "        else:\n",
    "            return self.make_prediction(x, tree.right)\n",
    "    \n"
   ]
  },
  {
   "cell_type": "markdown",
   "metadata": {},
   "source": [
    "### **Preprocessing**"
   ]
  },
  {
   "cell_type": "code",
   "execution_count": 10,
   "metadata": {},
   "outputs": [],
   "source": [
    "Y = data[\"type\"].values.reshape(-1,1) # lấy tất cả feature đổi thành array\n",
    "#print(X.shape) \n",
    "X = data.drop(\"type\",axis=1).values \n",
    "# chia ra hai loại samples để train và để test\n",
    "from sklearn.model_selection import train_test_split\n",
    "X_train, X_test, Y_train, Y_test = train_test_split(X, Y, test_size=0.2) #tỉ lệ 80/20"
   ]
  },
  {
   "cell_type": "markdown",
   "metadata": {},
   "source": [
    "### **Fit The Model**"
   ]
  },
  {
   "cell_type": "code",
   "execution_count": 11,
   "metadata": {},
   "outputs": [
    {
     "name": "stdout",
     "output_type": "stream",
     "text": [
      "X_2 <= 1.9 ? 0.3415491452991453\n",
      " left:Iris-setosa\n",
      " right:X_3 <= 1.7 ? 0.40222030007360954\n",
      "  left:X_2 <= 5.1 ? 0.08442269387539733\n",
      "    left:X_0 <= 4.9 ? 0.04759071980963725\n",
      "        left:Iris-virginica\n",
      "        right:Iris-versicolor\n",
      "    right:Iris-virginica\n",
      "  right:X_2 <= 4.8 ? 0.026938775510204082\n",
      "    left:Iris-versicolor\n",
      "    right:Iris-virginica\n"
     ]
    }
   ],
   "source": [
    "classifier = DecisionTreeClassifier(min_samples_split=3, max_depth=3)  \n",
    "classifier.fit(X_train,Y_train)#train \n",
    "classifier.print_tree()"
   ]
  },
  {
   "cell_type": "code",
   "execution_count": 12,
   "metadata": {},
   "outputs": [
    {
     "data": {
      "text/plain": [
       "0.8666666666666667"
      ]
     },
     "execution_count": 12,
     "metadata": {},
     "output_type": "execute_result"
    }
   ],
   "source": [
    "Y_pred = classifier.predict(X_test) \n",
    "from sklearn.metrics import accuracy_score\n",
    "accuracy_score(Y_test, Y_pred)"
   ]
  }
 ],
 "metadata": {
  "kernelspec": {
   "display_name": "base",
   "language": "python",
   "name": "python3"
  },
  "language_info": {
   "codemirror_mode": {
    "name": "ipython",
    "version": 3
   },
   "file_extension": ".py",
   "mimetype": "text/x-python",
   "name": "python",
   "nbconvert_exporter": "python",
   "pygments_lexer": "ipython3",
   "version": "3.11.9"
  }
 },
 "nbformat": 4,
 "nbformat_minor": 2
}
